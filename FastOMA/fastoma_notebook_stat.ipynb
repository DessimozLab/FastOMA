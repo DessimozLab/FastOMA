{
 "cells": [
  {
   "cell_type": "markdown",
   "id": "b871277b-6fec-4a08-abfc-80a9b36bdf9c",
   "metadata": {
    "editable": true,
    "slideshow": {
     "slide_type": ""
    },
    "tags": []
   },
   "source": [
    "# Setup Preamble\n",
    "\n"
   ]
  },
  {
   "cell_type": "code",
   "execution_count": null,
   "id": "c8ec78cf",
   "metadata": {
    "editable": true,
    "slideshow": {
     "slide_type": ""
    },
    "tags": []
   },
   "outputs": [],
   "source": [
    "import os\n",
    "import logging\n",
    "\n",
    "# Scientific libraries\n",
    "import pandas as pd\n",
    "from Bio import SeqIO\n",
    "\n",
    "# Graphic libraries\n",
    "import matplotlib\n",
    "import matplotlib.pyplot as plt\n",
    "import seaborn as sns\n",
    "\n",
    "# other imports\n",
    "import ete3\n",
    "from FastOMA import _utils_roothog\n",
    "from FastOMA.zoo.hog import extract_hog_info\n",
    "_utils_roothog.logger_hog.setLevel(logging.INFO)"
   ]
  },
  {
   "cell_type": "code",
   "execution_count": null,
   "id": "11145c04-7aca-40bb-b79c-5289c0b22849",
   "metadata": {
    "editable": true,
    "slideshow": {
     "slide_type": ""
    },
    "tags": []
   },
   "outputs": [],
   "source": [
    "# Extra options\n",
    "pd.set_option('max_colwidth',200)\n",
    "pd.options.display.max_rows = 150\n",
    "\n",
    "#style options\n",
    "%matplotlib inline\n",
    "plt.style.use('ggplot')\n",
    "plt.rcParams['figure.figsize'] = (12.0, 8.0)\n",
    "\n",
    "#seaborn options\n",
    "sns.set(rc={'axes.facecolor':'white', 'figure.facecolor':'white'}, font_scale=1.5)\n",
    "sns.set_style('whitegrid')\n",
    "palette=\"husl\""
   ]
  },
  {
   "cell_type": "code",
   "execution_count": null,
   "id": "c1eaf938-f3c9-4e79-9595-a42c75d1bd0f",
   "metadata": {
    "editable": true,
    "slideshow": {
     "slide_type": ""
    },
    "tags": [
     "parameters"
    ]
   },
   "outputs": [],
   "source": [
    "output_folder = \"Output\"\n",
    "input_folder = \"testdata/in_folder\"\n",
    "proteome_folder = input_folder + \"/proteome\""
   ]
  },
  {
   "cell_type": "markdown",
   "id": "5fb6ad37",
   "metadata": {
    "editable": true,
    "slideshow": {
     "slide_type": ""
    },
    "tags": []
   },
   "source": [
    "# Stats on input dataset"
   ]
  },
  {
   "cell_type": "markdown",
   "id": "fb574a80-4506-4d5a-b1a7-930a0f7068ce",
   "metadata": {},
   "source": [
    "## Proteomes \n",
    "\n",
    "We first show some statistics on the input proteomes, e.g. size distributions, length distributions etc, which can indicate problems in annotations and raise further problems in downstream analyses."
   ]
  },
  {
   "cell_type": "code",
   "execution_count": null,
   "id": "0ba60ef4",
   "metadata": {
    "editable": true,
    "slideshow": {
     "slide_type": ""
    },
    "tags": []
   },
   "outputs": [],
   "source": [
    "def get_protein_dataframe(folder):\n",
    "    species, seq_reqs, _ = _utils_roothog.parse_proteomes(folder)\n",
    "    print(f\"There are {len(species)} species in the proteome folder.\")\n",
    "    print(f\"In total, {sum(len(z) for z in seq_reqs.values())} proteins are in the dataset.\")\n",
    "    print(\"\\nThe list of species is the following:\")\n",
    "    prot_df = []\n",
    "    for sp in species:\n",
    "        print(f\" - {sp} (with {len(seq_reqs[sp])} proteins)\")\n",
    "        sp_df = pd.DataFrame({\"prot_len\": [len(z) for z in seq_reqs[sp]], \"species\": [sp for _ in range(len(seq_reqs[sp]))]})\n",
    "        prot_df.append(sp_df)\n",
    "    return pd.concat(prot_df)\n",
    "\n",
    "protein_df = get_protein_dataframe(proteome_folder)"
   ]
  },
  {
   "cell_type": "markdown",
   "id": "e762dcd8",
   "metadata": {
    "collapsed": false,
    "jupyter": {
     "outputs_hidden": false
    }
   },
   "source": [
    "Next follows a visual overview of the size distribution of all these proteomes."
   ]
  },
  {
   "cell_type": "code",
   "execution_count": null,
   "id": "e4aa8359",
   "metadata": {},
   "outputs": [],
   "source": [
    "sns.histplot(data=protein_df.groupby(\"species\", as_index=False).count(), stat=\"count\", bins=30)\n",
    "plt.xlabel(\"Nr proteins in each species\")\n",
    "plt.ylabel(\"Counts of proteomes\")\n",
    "plt.title(\"Distribution of number of proteins per species\")"
   ]
  },
  {
   "cell_type": "code",
   "execution_count": null,
   "id": "680634ac-3a01-4ab7-8676-01983498df2e",
   "metadata": {},
   "outputs": [],
   "source": [
    "ax = sns.countplot(x=\"species\", data=protein_df, \n",
    "                   order = protein_df['species'].value_counts().index,\n",
    "                   hue = \"species\")\n",
    "plt.xticks(rotation=90)\n",
    "plt.title(\"Number of proteins per genome\", fontsize=20)"
   ]
  },
  {
   "cell_type": "markdown",
   "id": "4ba69b43-8cb6-4a9e-acb7-0f18592480c5",
   "metadata": {},
   "source": [
    "Furthermore, a high proportion of proteins short in length may indicated a problem with genome quality. Below, we report the protein length distribution of all species used in this run. Suspect genomes are outlier peaks with a high number of short proteins."
   ]
  },
  {
   "cell_type": "code",
   "execution_count": null,
   "id": "029177f0-08c0-4784-898d-9752a7cb5706",
   "metadata": {},
   "outputs": [],
   "source": [
    "sns.displot(protein_df, x=\"prot_len\", hue=\"species\", kind=\"kde\", height=8)\n",
    "plt.xlim(0, 2000)\n",
    "plt.title(\"Protein length distribution per species\", fontsize=20)\n",
    "plt.xlabel(\"Protein length\")\n"
   ]
  },
  {
   "cell_type": "markdown",
   "id": "6ea45379-b1b3-4440-b2fa-721a633f5157",
   "metadata": {},
   "source": [
    "## Species tree \n",
    "\n",
    "Next, we look at the species input species tree. Note that errors in it can lead to wrong ortholog / paralog inference. FastOMA has identified on every internal level the set of orthologous groups in a hierarchically nested way, the Hierarchcial Orthologous Groups (HOGs).\n",
    "With tools such as pyHAM you can extract the group memebers in a programmable way for any internal level of the below species tree."
   ]
  },
  {
   "cell_type": "code",
   "execution_count": null,
   "id": "1a0cbfd4",
   "metadata": {},
   "outputs": [],
   "source": [
    "species_tree = ete3.Tree(os.path.join(output_folder, \"species_tree_checked.nwk\"),format=1)\n",
    "num_leaves = 0\n",
    "num_internal = 0\n",
    "for node in species_tree.traverse(strategy=\"postorder\"):\n",
    "    if node.is_leaf():\n",
    "        num_leaves += 1\n",
    "    else:\n",
    "        num_internal += 1\n",
    "print(f\"There are {num_internal} taxonomic levels in the input species tree with {num_leaves} species as leaves.\")\n",
    "\n",
    "print(species_tree.get_ascii(show_internal=True))"
   ]
  },
  {
   "cell_type": "code",
   "execution_count": null,
   "id": "64a5b04a",
   "metadata": {},
   "outputs": [],
   "source": []
  },
  {
   "cell_type": "markdown",
   "id": "187e2a2c",
   "metadata": {},
   "source": [
    "# Stats on Orthoxml"
   ]
  },
  {
   "cell_type": "code",
   "execution_count": null,
   "id": "ecde4231",
   "metadata": {},
   "outputs": [],
   "source": [
    "hog_file = os.path.join(output_folder, \"FastOMA_HOGs.orthoxml\")\n",
    "genome_coverage_stats = extract_hog_info.SpeciesAnalyser()\n",
    "with open(hog_file, 'rt') as xml:\n",
    "    hog_df = pd.DataFrame.from_records(extract_hog_info.parse_orthoxml(xml, genome_coverage_stats))\n",
    "hog_summary_df = pd.DataFrame.from_records(genome_coverage_stats.summary())\n",
    "df_seq = pd.merge(hog_summary_df, protein_df.groupby(\"species\", as_index=False).count(), on='species')\n",
    "df_seq['minor_splice'] = df_seq['prot_len']-df_seq['genes']\n",
    "df_seq = df_seq[['species', 'genes', 'not_in_group','minor_splice']]\n",
    "order = species_tree.get_leaf_names()\n",
    "df_seq = df_seq.sort_values(by=['species'], key=lambda s: s.apply(order.index)).set_index('species')\n",
    "df_seq"
   ]
  },
  {
   "cell_type": "markdown",
   "id": "32f416c2-0ee2-464e-a671-4f25afc69d20",
   "metadata": {},
   "source": [
    "## Genes in HOGs\n",
    "\n",
    "First, let's check the fraction of genes that are in any HOG per species. Note that OMA will only use one isoform per gene (if properly annotated). The toal barchart height will indicated the total number of proteins in the fasta input file. The blue part (genes) is the number of genes that are in a HOG. "
   ]
  },
  {
   "cell_type": "code",
   "execution_count": null,
   "id": "96b4619e-529b-48f4-8795-89f48f78fe1b",
   "metadata": {},
   "outputs": [],
   "source": [
    "df_seq.plot(kind='bar', stacked=True)\n",
    "plt.title('Number of proteins in HOGs / singltons / minor splice variants', fontsize=16)\n",
    "plt.xlabel('Species')\n",
    "plt.ylabel('Counts')\n",
    "plt.xticks(rotation=90);"
   ]
  },
  {
   "cell_type": "markdown",
   "id": "15f874d2-650a-485f-9a9c-6f0e905d68eb",
   "metadata": {},
   "source": [
    "## Group sizes\n",
    "\n",
    "As HOGs are nested groups, we first look at the rootlevel HOGs, so the deepest level of each HOG. The level itself can be at any of the internal taxonomic levels"
   ]
  },
  {
   "cell_type": "code",
   "execution_count": null,
   "id": "46a7e584-80bb-4881-90b2-6d5b3227f3d5",
   "metadata": {},
   "outputs": [],
   "source": [
    "hog_df"
   ]
  },
  {
   "cell_type": "markdown",
   "id": "44872248-8ad8-487c-89c2-147337d2c5f1",
   "metadata": {},
   "source": [
    "Now, we can slice the HOGs in various ways. Remember, they are nested, so it usually makes sense to analyse either all the HOGs at their root level or alternativly look at a specific taxonomic level.\n",
    "\n",
    "## Roothogs (deepest levels for every HOG)\n",
    "\n",
    "Here, we first look at the all the RootHOGs. We can select them using the `is_roothog` column"
   ]
  },
  {
   "cell_type": "code",
   "execution_count": null,
   "id": "0a8c5e3f-daed-431c-ba79-46a0f701a779",
   "metadata": {},
   "outputs": [],
   "source": [
    "roothog_df = hog_df[(hog_df['is_roothog']==True)]\n",
    "print(f\"Number of RootHOGs: {len(roothog_df)}\")\n",
    "roothog_df.describe()"
   ]
  },
  {
   "cell_type": "markdown",
   "id": "ec10e7c9-b803-45c1-b131-302c12b1da6c",
   "metadata": {},
   "source": [
    "We can further analyse how complete these roothogs are. The `CompletenessScore` contains the fraction of species that have at least one gene in the HOG. "
   ]
  },
  {
   "cell_type": "code",
   "execution_count": null,
   "id": "c90ff7ef-c88f-4c74-bfbb-0cf2fa0d5901",
   "metadata": {},
   "outputs": [],
   "source": [
    "sns.displot(roothog_df, x=\"CompletenessScore\", kind=\"ecdf\")\n",
    "plt.title(\"Cumulative distribution of CompletenessScore for all RootHOGs\", fontsize=16);\n"
   ]
  },
  {
   "cell_type": "code",
   "execution_count": null,
   "id": "073a3976-c942-42dc-815b-7fc1655d8837",
   "metadata": {},
   "outputs": [],
   "source": [
    "g = sns.jointplot(data=roothog_df, \n",
    "                  kind=\"scatter\",\n",
    "                  x='nr_members', \n",
    "                  y='CompletenessScore', \n",
    "                  marginal_kws=dict(bins=20, element=\"step\"), \n",
    "                  marginal_ticks=True,\n",
    "                  height=11)\n",
    "g.fig.suptitle(\"Distribution of HOG sizes and CompletenessScores for all RootHOGs\", fontsize=16)\n",
    "g.ax_joint.set_xlabel(\"HOG size (number of member genes)\", fontsize=14) \n",
    "g.ax_joint.set_ylabel(\"Completeness Score of HOG\", fontsize=14)\n",
    "g.fig.tight_layout()\n",
    "g.fig.subplots_adjust(top=0.95)"
   ]
  },
  {
   "cell_type": "markdown",
   "id": "9954b3f6-f435-496a-8fab-7da09baffc47",
   "metadata": {},
   "source": [
    "Alternatively, we can also analyse the HOGs at a given taxonomic level. Here, we generate the plot for a relatively deep level in the species tree. You can change this to more useful levels tfor your dataset.\n",
    "\n",
    "## HOGs at a taxonomic level"
   ]
  },
  {
   "cell_type": "code",
   "execution_count": null,
   "id": "0e6476e7-694f-4108-8a02-3e86374416ad",
   "metadata": {},
   "outputs": [],
   "source": [
    "desired_subtree_size = max(2, int(0.4*len(species_tree.get_leaf_names())))\n",
    "node = species_tree\n",
    "while True:\n",
    "    nr_child = [len(c.get_leaves()) for c in node.get_descendants()]\n",
    "    if max(nr_child) < desired_subtree_size:\n",
    "        break\n",
    "    k = nr_child.index(max(nr_child))\n",
    "    node = node.get_descendants()[k]\n",
    "level = node.name\n",
    "print(f\"We've selected {level} as our level of interest\\nIt contains {len(node.get_leaf_names())} species (out of {len(species_tree.get_leaves())}).\\nYou can use a different level by setting the level variable in the next cell instead.\")"
   ]
  },
  {
   "cell_type": "code",
   "execution_count": null,
   "id": "f164e5f4-85f9-40ec-9dc7-1f7ff963ca25",
   "metadata": {},
   "outputs": [],
   "source": [
    "#level = \"XXX\""
   ]
  },
  {
   "cell_type": "code",
   "execution_count": null,
   "id": "7066668b-f260-4b7d-a9a0-68141f1149ef",
   "metadata": {},
   "outputs": [],
   "source": [
    "level_df = hog_df[(hog_df['level']==level)]\n",
    "print(f\"Number of HOGs at {level}: {len(level_df)}\")\n",
    "level_df.describe()"
   ]
  },
  {
   "cell_type": "code",
   "execution_count": null,
   "id": "ee844afe-fa0a-4b3b-8fe3-4e9fec48bf36",
   "metadata": {},
   "outputs": [],
   "source": [
    "sns.displot(level_df, x=\"CompletenessScore\", kind=\"ecdf\")\n",
    "plt.title(f\"Cumulative distribution on CompletenessScore for HOGs at {level}\");\n"
   ]
  },
  {
   "cell_type": "code",
   "execution_count": null,
   "id": "3f572007-d324-4310-bc55-b210e19034f8",
   "metadata": {},
   "outputs": [],
   "source": [
    "g = sns.jointplot(data=level_df, \n",
    "              kind=\"scatter\",\n",
    "              x='nr_members', \n",
    "              y='CompletenessScore', \n",
    "              marginal_kws=dict(bins=20, element=\"step\"), \n",
    "              marginal_ticks=True,\n",
    "              height=11)\n",
    "g.fig.suptitle(f\"Distribution of HOG sizes and CompletenessScores for HOGs at {level}\", fontsize=16)\n",
    "g.ax_joint.set_xlabel(\"HOG size (number of member genes)\", fontsize=14) \n",
    "g.ax_joint.set_ylabel(\"Completeness Score of HOG\", fontsize=14)\n",
    "g.fig.tight_layout()\n",
    "g.fig.subplots_adjust(top=0.95) "
   ]
  },
  {
   "cell_type": "markdown",
   "id": "3ec445a2",
   "metadata": {},
   "source": [
    "# Get duplications/losses/gains/retained with PyHAM"
   ]
  },
  {
   "cell_type": "code",
   "execution_count": null,
   "id": "505ff59a",
   "metadata": {},
   "outputs": [],
   "source": [
    "import pyham       \n",
    "import logging\n",
    "logging.basicConfig(level=logging.INFO, format=\"%(asctime)s %(name)-12s %(levelname)-8s %(message)s\")"
   ]
  },
  {
   "cell_type": "code",
   "execution_count": null,
   "id": "f4ba82f4",
   "metadata": {},
   "outputs": [],
   "source": [
    "nwk_path= os.path.join(output_folder, \"species_tree_checked.nwk\") # species tree should be pruned (no extra leaves)\n",
    "orthoxml_path=os.path.join(output_folder, \"FastOMA_HOGs.orthoxml\")\n",
    "ham_analysis = pyham.Ham(nwk_path, orthoxml_path, tree_format=\"newick\", use_internal_name=True)\n",
    "print(\"Ham analysis done\") # for a big orthoxml file it can take ~30mins"
   ]
  },
  {
   "cell_type": "markdown",
   "id": "0931c6a7",
   "metadata": {
    "collapsed": false,
    "jupyter": {
     "outputs_hidden": false
    }
   },
   "source": [
    "## Generate Phylostratigraphy plots\n",
    "\n",
    "create tree profile, classify all genomes by extant or ancestral, and get % of dup, lost, retained, and gained"
   ]
  },
  {
   "cell_type": "code",
   "execution_count": null,
   "id": "52eca580",
   "metadata": {
    "collapsed": false,
    "jupyter": {
     "outputs_hidden": false
    }
   },
   "outputs": [],
   "source": [
    "phylostratigraphy = os.path.join(output_folder, \"phylostratigraphy.html\")\n",
    "treeprofile = ham_analysis.create_tree_profile(outfile=phylostratigraphy)\n",
    "\n",
    "from IPython.display import IFrame\n",
    "IFrame(os.path.basename(phylostratigraphy), width=800, height=600)"
   ]
  }
 ],
 "metadata": {
  "kernelspec": {
   "display_name": "Python 3 (ipykernel)",
   "language": "python",
   "name": "python3"
  },
  "language_info": {
   "codemirror_mode": {
    "name": "ipython",
    "version": 3
   },
   "file_extension": ".py",
   "mimetype": "text/x-python",
   "name": "python",
   "nbconvert_exporter": "python",
   "pygments_lexer": "ipython3",
   "version": "3.11.1"
  }
 },
 "nbformat": 4,
 "nbformat_minor": 5
}
