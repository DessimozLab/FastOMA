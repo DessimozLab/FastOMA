{
 "cells": [
  {
   "cell_type": "markdown",
   "metadata": {},
   "source": [
    "# Welcome to HAM Tool Box!"
   ]
  },
  {
   "cell_type": "markdown",
   "metadata": {},
   "source": [
    "This ipython notebook aims to help you to do your first steps with HAM (or as a spreadsheet for HAM). \n",
    "\n",
    "In this tutorial we will explain how to: \n",
    "* [set up](#set) an HAM analysis using the different availble options.\n",
    "* use the different [queries](#query) that allow to fetch the information you want.\n",
    "* explore what the ham [objects](#object) have to offer.\n",
    "* [compare](#compare) several genomes throught their HOGS.\n",
    "* run [iHam](#hvis) (single hog visualisation)\n",
    "* run [treeprofile](#tprofile) (species tree with annotated node with evolutionary events)\n",
    "\n"
   ]
  },
  {
   "cell_type": "markdown",
   "metadata": {},
   "source": [
    "#### <a id='set'></a>\n",
    "## SET UP THE HAM"
   ]
  },
  {
   "cell_type": "markdown",
   "metadata": {},
   "source": [
    "### Required import"
   ]
  },
  {
   "cell_type": "code",
   "execution_count": 1,
   "metadata": {},
   "outputs": [],
   "source": [
    "#  This is the HAM package\n",
    "import pyham\n",
    "\n",
    "#  OPTIONAL: only if you want to have the logger information printed\n",
    "import logging\n",
    "logging.basicConfig(level=logging.INFO, format=\"%(asctime)s %(name)-12s %(levelname)-8s %(message)s\")"
   ]
  },
  {
   "cell_type": "markdown",
   "metadata": {},
   "source": [
    "### First, we need a species tree and an orthoXML !\n",
    "\n",
    "In this example, we show how to initialise a pyham instance with a newick tree but you can also do it with a phyloxml tree. Here are the different tree input compatible with pyHam:\n",
    "- **newick string (default)**  ham_analysis = pyham.Ham(tree_str, orthoxml_path, use_internal_name=True)\n",
    "- **newick file**  ham_analysis = pyham.Ham(newick_path, orthoxml_path, use_internal_name=True, tree_format='newick')\n",
    "- **phyloxml file**  ham_analysis = pyham.Ham(phyloxml_path, orthoxml_path, use_internal_name=True, tree_format='phyloxml')\n"
   ]
  },
  {
   "cell_type": "code",
   "execution_count": 2,
   "metadata": {},
   "outputs": [],
   "source": [
    "\n",
    "##### This is just to get the example file from your pyham github ####################################\n",
    "import os, inspect, urllib \n",
    "import sys\n",
    "if sys.version_info[0] == 3:\n",
    "    from urllib.request import urlretrieve\n",
    "else:\n",
    "    from urllib import urlretrieve\n",
    "\n",
    "# download species tree and orthoxml\n",
    "tree_url = \"https://raw.githubusercontent.com/DessimozLab/pyham/master/tests/data/simpleEx.nwk\"\n",
    "urlretrieve(tree_url , \"./simpleEx.nwk\")\n",
    "\n",
    "OXML_url = \"https://raw.githubusercontent.com/DessimozLab/pyham/master/tests/data/simpleEx.orthoxml\"\n",
    "urlretrieve(OXML_url , \"./simpleEx.orthoxml\")\n",
    "#####################################################################################################\n",
    "\n",
    "#  Select a nwk file as a taxonomy reference\n",
    "nwk_path = \"./simpleEx.nwk\"\n",
    "#  And extract the newick tree as a string\n",
    "tree_str = pyham.utils.get_newick_string(nwk_path, type=\"nwk\")\n",
    "\n",
    "# Then you select your favorite orthoXML file\n",
    "orthoxml_path =  \"./simpleEx.orthoxml\"\n"
   ]
  },
  {
   "cell_type": "markdown",
   "metadata": {},
   "source": [
    "### Let's feed HAM with some HOGs and a tree."
   ]
  },
  {
   "cell_type": "code",
   "execution_count": 3,
   "metadata": {},
   "outputs": [
    {
     "name": "stderr",
     "output_type": "stream",
     "text": [
      "2018-11-02 22:50:51,061 pyham.ham    INFO     Build taxonomy: completed.\n",
      "2018-11-02 22:50:51,065 pyham.parsers INFO     Species HUMAN created. \n",
      "2018-11-02 22:50:51,067 pyham.parsers INFO     Species PANTR created. \n",
      "2018-11-02 22:50:51,069 pyham.parsers INFO     Species CANFA created. \n",
      "2018-11-02 22:50:51,071 pyham.parsers INFO     Species MOUSE created. \n",
      "2018-11-02 22:50:51,073 pyham.parsers INFO     Species RATNO created. \n",
      "2018-11-02 22:50:51,075 pyham.parsers INFO     Species XENTR created. \n",
      "2018-11-02 22:50:51,082 pyham.ham    INFO     Parse Orthoxml: 3 top level hogs and 19 extant genes extract.\n",
      "2018-11-02 22:50:51,084 pyham.ham    INFO     Set up Ham analysis: ready to go with 3 hogs founded within 6 species.\n"
     ]
    }
   ],
   "source": [
    "# pyham.Ham is the main object that containes all information and functionalities.\n",
    "ham_analysis = pyham.Ham(tree_str, orthoxml_path, use_internal_name=True)\n"
   ]
  },
  {
   "cell_type": "markdown",
   "metadata": {},
   "source": [
    "### but we can also get the data from a public database !!"
   ]
  },
  {
   "cell_type": "code",
   "execution_count": 4,
   "metadata": {},
   "outputs": [
    {
     "name": "stderr",
     "output_type": "stream",
     "text": [
      "2018-11-02 22:50:53,571 pyham.ham    INFO     Build taxonomy: completed.\n",
      "2018-11-02 22:50:53,593 pyham.parsers INFO     Species Ictidomys tridecemlineatus created. \n",
      "2018-11-02 22:50:53,615 pyham.parsers INFO     Species Sorex araneus created. \n",
      "2018-11-02 22:50:53,637 pyham.parsers INFO     Species Ochotona princeps created. \n",
      "2018-11-02 22:50:53,658 pyham.parsers INFO     Species Xiphophorus maculatus created. \n",
      "2018-11-02 22:50:53,686 pyham.parsers INFO     Species Ciona savignyi created. \n",
      "2018-11-02 22:50:53,712 pyham.parsers INFO     Species Astyanax mexicanus created. \n",
      "2018-11-02 22:50:53,747 pyham.parsers INFO     Species Echinops telfairi created. \n",
      "2018-11-02 22:50:53,773 pyham.parsers INFO     Species Danio rerio created. \n",
      "2018-11-02 22:50:53,795 pyham.parsers INFO     Species Homo sapiens created. \n",
      "2018-11-02 22:50:53,820 pyham.parsers INFO     Species Oryctolagus cuniculus created. \n",
      "2018-11-02 22:50:53,845 pyham.parsers INFO     Species Poecilia formosa created. \n",
      "2018-11-02 22:50:53,873 pyham.parsers INFO     Species Latimeria chalumnae created. \n",
      "2018-11-02 22:50:53,901 pyham.parsers INFO     Species Cavia porcellus created. \n",
      "2018-11-02 22:50:53,927 pyham.parsers INFO     Species Tupaia belangeri created. \n",
      "2018-11-02 22:50:53,953 pyham.parsers INFO     Species Ailuropoda melanoleuca created. \n",
      "2018-11-02 22:50:53,978 pyham.parsers INFO     Species Otolemur garnettii created. \n",
      "2018-11-02 22:50:54,004 pyham.parsers INFO     Species Xenopus tropicalis created. \n",
      "2018-11-02 22:50:54,028 pyham.parsers INFO     Species Ciona intestinalis created. \n",
      "2018-11-02 22:50:54,056 pyham.parsers INFO     Species Chinchilla lanigera created. \n",
      "2018-11-02 22:50:54,082 pyham.parsers INFO     Species Callithrix jacchus created. \n",
      "2018-11-02 22:50:54,116 pyham.parsers INFO     Species Chlorocebus sabaeus created. \n",
      "2018-11-02 22:50:54,151 pyham.parsers INFO     Species Fukomys damarensis created. \n",
      "2018-11-02 22:50:54,182 pyham.parsers INFO     Species Pan troglodytes created. \n",
      "2018-11-02 22:50:54,214 pyham.parsers INFO     Species Oreochromis niloticus created. \n",
      "2018-11-02 22:50:54,243 pyham.parsers INFO     Species Tetraodon nigroviridis created. \n",
      "2018-11-02 22:50:54,278 pyham.parsers INFO     Species Microcebus murinus created. \n",
      "2018-11-02 22:50:54,308 pyham.parsers INFO     Species Bos taurus created. \n",
      "2018-11-02 22:50:54,338 pyham.parsers INFO     Species Procavia capensis created. \n",
      "2018-11-02 22:50:54,369 pyham.parsers INFO     Species Branchiostoma floridae created. \n",
      "2018-11-02 22:50:54,395 pyham.parsers INFO     Species Pan paniscus created. \n",
      "2018-11-02 22:50:54,419 pyham.parsers INFO     Species Rattus norvegicus created. \n",
      "2018-11-02 22:50:54,445 pyham.parsers INFO     Species Macaca mulatta created. \n",
      "2018-11-02 22:50:54,471 pyham.parsers INFO     Species Tursiops truncatus created. \n",
      "2018-11-02 22:50:54,501 pyham.parsers INFO     Species Mustela putorius furo created. \n",
      "2018-11-02 22:50:54,528 pyham.parsers INFO     Species Loxodonta africana created. \n",
      "2018-11-02 22:50:54,557 pyham.parsers INFO     Species Erinaceus europaeus created. \n",
      "2018-11-02 22:50:54,583 pyham.parsers INFO     Species Sus scrofa created. \n",
      "2018-11-02 22:50:54,609 pyham.parsers INFO     Species Papio anubis created. \n",
      "2018-11-02 22:50:54,631 pyham.parsers INFO     Species Octodon degus created. \n",
      "2018-11-02 22:50:54,661 pyham.parsers INFO     Species Pelodiscus sinensis created. \n",
      "2018-11-02 22:50:54,688 pyham.parsers INFO     Species Canis lupus familiaris created. \n",
      "2018-11-02 22:50:54,713 pyham.parsers INFO     Species Gorilla gorilla gorilla created. \n",
      "2018-11-02 22:50:54,739 pyham.parsers INFO     Species Nothobranchius furzeri created. \n",
      "2018-11-02 22:50:54,765 pyham.parsers INFO     Species Nomascus leucogenys created. \n",
      "2018-11-02 22:50:54,788 pyham.parsers INFO     Species Gasterosteus aculeatus created. \n",
      "2018-11-02 22:50:54,817 pyham.parsers INFO     Species Equus caballus created. \n",
      "2018-11-02 22:50:54,842 pyham.parsers INFO     Species Ovis aries created. \n",
      "2018-11-02 22:50:54,870 pyham.parsers INFO     Species Lepisosteus oculatus created. \n",
      "2018-11-02 22:50:54,899 pyham.parsers INFO     Species Dasypus novemcinctus created. \n",
      "2018-11-02 22:50:54,924 pyham.parsers INFO     Species Mus musculus created. \n",
      "2018-11-02 22:50:54,949 pyham.parsers INFO     Species Nannospalax galili created. \n",
      "2018-11-02 22:50:54,976 pyham.parsers INFO     Species Jaculus jaculus created. \n",
      "2018-11-02 22:50:55,000 pyham.parsers INFO     Species Pongo abelii created. \n",
      "2018-11-02 22:50:55,027 pyham.parsers INFO     Species Felis catus created. \n",
      "2018-11-02 22:50:55,056 pyham.parsers INFO     Species Oryzias latipes created. \n",
      "2018-11-02 22:50:55,082 pyham.parsers INFO     Species Takifugu rubripes created. \n",
      "2018-11-02 22:50:55,108 pyham.parsers INFO     Species Pteropus vampyrus created. \n",
      "2018-11-02 22:50:55,136 pyham.parsers INFO     Species Gadus morhua created. \n",
      "2018-11-02 22:50:55,163 pyham.parsers INFO     Species Myotis lucifugus created. \n",
      "2018-11-02 22:50:55,811 pyham.ham    INFO     Parse Orthoxml: 1 top level hogs and 77 extant genes extract.\n",
      "2018-11-02 22:50:55,812 pyham.ham    INFO     Set up Ham analysis: ready to go with 1 hogs founded within 59 species.\n"
     ]
    }
   ],
   "source": [
    "my_gene_query = 'P53_RAT'\n",
    "pyham_analysis = pyham.Ham(query_database=my_gene_query, use_data_from='oma')"
   ]
  },
  {
   "cell_type": "markdown",
   "metadata": {},
   "source": [
    "### Alternative options: filtering and taxonomic range naming!"
   ]
  },
  {
   "cell_type": "markdown",
   "metadata": {},
   "source": [
    "#### Taxonomic range naming\n",
    "If you don't want to use the internal names defined by the newick specie tree (or if it's have support values as internal names) you can use the automatic internal node naming of HAM (i.e. concatenation of children names).\n"
   ]
  },
  {
   "cell_type": "code",
   "execution_count": 5,
   "metadata": {},
   "outputs": [
    {
     "name": "stderr",
     "output_type": "stream",
     "text": [
      "2018-11-02 22:50:55,836 pyham.ham    INFO     Build taxonomy: completed.\n",
      "2018-11-02 22:50:55,839 pyham.parsers INFO     Species HUMAN created. \n",
      "2018-11-02 22:50:55,841 pyham.parsers INFO     Species PANTR created. \n",
      "2018-11-02 22:50:55,843 pyham.parsers INFO     Species CANFA created. \n",
      "2018-11-02 22:50:55,845 pyham.parsers INFO     Species MOUSE created. \n",
      "2018-11-02 22:50:55,847 pyham.parsers INFO     Species RATNO created. \n",
      "2018-11-02 22:50:55,850 pyham.parsers INFO     Species XENTR created. \n",
      "2018-11-02 22:50:55,855 pyham.ham    INFO     Parse Orthoxml: 3 top level hogs and 19 extant genes extract.\n",
      "2018-11-02 22:50:55,857 pyham.ham    INFO     Set up Ham analysis: ready to go with 3 hogs founded within 6 species.\n"
     ]
    },
    {
     "name": "stdout",
     "output_type": "stream",
     "text": [
      "Ancestral genomes name using newick internal names:\n",
      "\t- Primates\n",
      "\t- Vertebrata\n",
      "\t- Rodents\n",
      "\t- Mammalia\n",
      "\t- Euarchontoglires\n"
     ]
    }
   ],
   "source": [
    "# the use_internal_name attribute is doing the job\n",
    "ham_analysis_no_name = pyham.Ham(tree_str, orthoxml_path, use_internal_name=False)\n",
    "\n",
    "# In the previous section we use the internal name of the newick tree:\n",
    "print(\"Ancestral genomes name using newick internal names:\")\n",
    "for ag in ham_analysis.taxonomy.internal_nodes:\n",
    "    print(\"\\t- {}\".format(ag.name))\n",
    "    "
   ]
  },
  {
   "cell_type": "code",
   "execution_count": 6,
   "metadata": {},
   "outputs": [
    {
     "name": "stdout",
     "output_type": "stream",
     "text": [
      "Ancestral genomes name using artificial ham names:\n",
      "\t- XENTR/HUMAN/PANTR/MOUSE/RATNO/CANFA\n",
      "\t- HUMAN/PANTR\n",
      "\t- HUMAN/PANTR/MOUSE/RATNO/CANFA\n",
      "\t- HUMAN/PANTR/MOUSE/RATNO\n",
      "\t- MOUSE/RATNO\n"
     ]
    }
   ],
   "source": [
    "# Here we use the artificial internal names built by pyham:\n",
    "print(\"Ancestral genomes name using artificial ham names:\")\n",
    "for ag in ham_analysis_no_name.taxonomy.internal_nodes:\n",
    "    print(\"\\t- {}\".format(ag.name))\n",
    "    "
   ]
  },
  {
   "cell_type": "code",
   "execution_count": 7,
   "metadata": {},
   "outputs": [
    {
     "name": "stdout",
     "output_type": "stream",
     "text": [
      "\n",
      "                                   /-XENTR\n",
      "                                  |\n",
      "                                  |                                                               /-HUMAN\n",
      "-XENTR/HUMAN/PANTR/MOUSE/RATNO/CANFA                                                   /HUMAN/PANTR\n",
      "                                  |                                                   |           \\-PANTR\n",
      "                                  |                             /HUMAN/PANTR/MOUSE/RATNO\n",
      "                                  |                            |                      |           /-MOUSE\n",
      "                                   \\HUMAN/PANTR/MOUSE/RATNO/CANFA                      \\MOUSE/RATNO\n",
      "                                                               |                                  \\-RATNO\n",
      "                                                               |\n",
      "                                                                \\-CANFA\n"
     ]
    }
   ],
   "source": [
    "#  In case you are using use_internal_name=False, the following function returns an ascii representation\n",
    "#  of the newick tree with  articial names. This can be used even before instanciating the HAM object which\n",
    "#  can be useful to avoid stupid error of query by name in scripts.\n",
    "print(pyham.utils.previsualize_taxonomy(tree_str))\n"
   ]
  },
  {
   "cell_type": "markdown",
   "metadata": {},
   "source": [
    "#### Pre Parsing filtering\n",
    "If you have a large orthoXML file or you only want parse information of interest you can use the filter option."
   ]
  },
  {
   "cell_type": "code",
   "execution_count": 8,
   "metadata": {},
   "outputs": [
    {
     "name": "stderr",
     "output_type": "stream",
     "text": [
      "2018-11-02 22:50:55,924 pyham.ham    INFO     Build taxonomy: completed.\n",
      "2018-11-02 22:50:55,931 pyham.ham    INFO     Filtering Indexing of Orthoxml done: 1 top level hogs and 4 extant genes will be extract.\n",
      "2018-11-02 22:50:55,934 pyham.parsers INFO     Species HUMAN created. \n",
      "2018-11-02 22:50:55,936 pyham.parsers INFO     Species PANTR created. \n",
      "2018-11-02 22:50:55,939 pyham.parsers INFO     Species CANFA created. \n",
      "2018-11-02 22:50:55,942 pyham.parsers INFO     Species MOUSE created. \n",
      "2018-11-02 22:50:55,944 pyham.parsers INFO     Species RATNO created. \n",
      "2018-11-02 22:50:55,948 pyham.parsers INFO     Species XENTR created. \n",
      "2018-11-02 22:50:55,952 pyham.ham    INFO     Parse Orthoxml: 1 top level hogs and 4 extant genes extract.\n",
      "2018-11-02 22:50:55,954 pyham.ham    INFO     Set up Ham analysis: ready to go with 1 hogs founded within 6 species.\n"
     ]
    }
   ],
   "source": [
    "# First you instanciate an empty ParserFilter object\n",
    "filter_ham = pyham.ParserFilter()\n",
    "\n",
    "# Then you can add to the filter hogs of interest using the following function (those 3 examples are doing the same)\n",
    "filter_ham.add_hogs_via_hogId([2]) # by its toplevel hog id \n",
    "filter_ham.add_hogs_via_GeneIntId([2]) # by a gene unique id that belong to the hog of interest \n",
    "filter_ham.add_hogs_via_GeneExtId([\"HUMAN2\"]) # by a gene external id that belongs to the hog of interest \n",
    "\n",
    "# Finaly, you set up the HAM object as before using the filter_object attribute\n",
    "ham_analysis_filter = pyham.Ham(tree_str, orthoxml_path, use_internal_name=True, filter_object=filter_ham)\n",
    "\n",
    "# If you look at the log information beneath it is different from the one previously printed !!"
   ]
  },
  {
   "cell_type": "markdown",
   "metadata": {},
   "source": [
    "<a id='query'></a>\n",
    "## QUERIES: HOW TO TALK WITH HAM ?\n",
    "\n",
    "We can separate queries into the following categories:\n",
    "*  [ExtantGene](#xgeneq)\n",
    "*  [HOG](#hogq)\n",
    "*  [ExtantGenome](#xgenomeq)\n",
    "*  [AncestralGenome](#ancgenomeq)\n",
    "*  [Taxon](#taxq)"
   ]
  },
  {
   "cell_type": "markdown",
   "metadata": {},
   "source": [
    "<a id='xgeneq'></a>\n",
    "### ExtantGene queries\n",
    "\n",
    "ExtantGene are the object to represent genes at the leaves."
   ]
  },
  {
   "cell_type": "code",
   "execution_count": 9,
   "metadata": {},
   "outputs": [
    {
     "name": "stdout",
     "output_type": "stream",
     "text": [
      "Gene(3)\n",
      "Gene(3)\n"
     ]
    }
   ],
   "source": [
    "# Get a gene by its unique (orthoxml) id\n",
    "gene_human3 = ham_analysis.get_gene_by_id(3)\n",
    "print(gene_human3)\n",
    "\n",
    "# Get a list of genes that match an external id\n",
    "potentential_genes_human3 = ham_analysis.get_genes_by_external_id(\"HUMAN3\")\n",
    "print(potentential_genes_human3[0])\n",
    "\n",
    "## You should see twice the same gene printed below!\n",
    "\n",
    "# You can also get all genes created as a list\n",
    "list_genes = ham_analysis.get_list_extant_genes()\n",
    "\n",
    "# or as the dictionnary (key <-> unique id and value <-> gene)\n",
    "dict_genes = ham_analysis.get_dict_extant_genes()"
   ]
  },
  {
   "cell_type": "markdown",
   "metadata": {},
   "source": [
    "<a id='hogq'></a>\n",
    "### HOG queries"
   ]
  },
  {
   "cell_type": "code",
   "execution_count": 10,
   "metadata": {},
   "outputs": [
    {
     "name": "stdout",
     "output_type": "stream",
     "text": [
      "<HOG(3)>\n",
      "<HOG(3)>\n"
     ]
    }
   ],
   "source": [
    "# Get a HOG by its top level unique id\n",
    "HOG_3 = ham_analysis.get_hog_by_id(3)\n",
    "print(HOG_3)\n",
    "\n",
    "HOG_3 = ham_analysis.get_hog_by_gene(gene_human3)\n",
    "print(HOG_3)\n",
    "\n",
    "## You should see twice the same HOG printed beneath !\n"
   ]
  },
  {
   "cell_type": "code",
   "execution_count": 11,
   "metadata": {},
   "outputs": [],
   "source": [
    "\n",
    "# You can also get all genes created as a list\n",
    "list_toplevel_hogs = ham_analysis.get_list_top_level_hogs()\n",
    "\n",
    "# or as the dictionnary (key <->  top level id and value <-> HOG)\n",
    "dict_toplevel_hogs = ham_analysis.get_dict_top_level_hogs()"
   ]
  },
  {
   "cell_type": "markdown",
   "metadata": {},
   "source": [
    "<a id='xgenomeq'></a>\n",
    "### ExtantGenome queries"
   ]
  },
  {
   "cell_type": "code",
   "execution_count": 12,
   "metadata": {},
   "outputs": [
    {
     "name": "stdout",
     "output_type": "stream",
     "text": [
      "HUMAN\n"
     ]
    }
   ],
   "source": [
    "# Get a extant genome by its name\n",
    "genome_human = ham_analysis.get_extant_genome_by_name(\"HUMAN\")\n",
    "print(genome_human)\n"
   ]
  },
  {
   "cell_type": "code",
   "execution_count": 13,
   "metadata": {},
   "outputs": [
    {
     "name": "stdout",
     "output_type": "stream",
     "text": [
      "List of species:\n",
      "\t- XENTR\n",
      "\t- HUMAN\n",
      "\t- PANTR\n",
      "\t- MOUSE\n",
      "\t- RATNO\n",
      "\t- CANFA\n"
     ]
    }
   ],
   "source": [
    "\n",
    "# You can also get all extant genomes created as a list\n",
    "list_genome = ham_analysis.get_list_extant_genomes()\n",
    "print(\"List of species:\")\n",
    "for g in list_genome:\n",
    "    print(\"\\t- {}\".format(g.name))"
   ]
  },
  {
   "cell_type": "markdown",
   "metadata": {},
   "source": [
    "<a id='ancgenomeq'></a>\n",
    "### AncestralGenome queries\n",
    "\n",
    "AncestralGenome are the object to represent the genome associate to internal node in the species tree."
   ]
  },
  {
   "cell_type": "code",
   "execution_count": 14,
   "metadata": {},
   "outputs": [
    {
     "name": "stdout",
     "output_type": "stream",
     "text": [
      "Rodents\n",
      "MOUSE/RATNO\n"
     ]
    }
   ],
   "source": [
    "# Get an ancestral genome by its name\n",
    "genome_rodents_1 = ham_analysis.get_ancestral_genome_by_name(\"Rodents\")\n",
    "print(genome_rodents_1)\n",
    "\n",
    "# And in case you specified use_internal_name=False ! \n",
    "genome_rodents_2 = ham_analysis_no_name.get_ancestral_genome_by_name(\"MOUSE/RATNO\")\n",
    "print(genome_rodents_2)"
   ]
  },
  {
   "cell_type": "code",
   "execution_count": 15,
   "metadata": {},
   "outputs": [
    {
     "name": "stdout",
     "output_type": "stream",
     "text": [
      "Rodents\n"
     ]
    }
   ],
   "source": [
    "# Get an ancestral genome by looking at the mrca of 2+ genomes\n",
    "# First you get the descendant genomes as we seen above\n",
    "genome_rat = ham_analysis.get_extant_genome_by_name(\"RATNO\")\n",
    "genome_mouse = ham_analysis.get_extant_genome_by_name(\"MOUSE\")\n",
    "# Then you get the corresponding mrca ancestral genomes \n",
    "genome_rodents_3 = ham_analysis.get_ancestral_genome_by_mrca_of_genome_set({genome_rat, genome_mouse})\n",
    "print(genome_rodents_3)"
   ]
  },
  {
   "cell_type": "code",
   "execution_count": 16,
   "metadata": {},
   "outputs": [
    {
     "name": "stdout",
     "output_type": "stream",
     "text": [
      "Rodents\n"
     ]
    }
   ],
   "source": [
    "# You can also get an ancestral genome by its taxonomy node\n",
    "taxon = ham_analysis.get_taxon_by_name(\"Rodents\") # as seen in the next section\n",
    "genome_rodents_4 = ham_analysis.get_ancestral_genome_by_taxon(taxon)\n",
    "print(genome_rodents_4)"
   ]
  },
  {
   "cell_type": "code",
   "execution_count": 17,
   "metadata": {},
   "outputs": [
    {
     "name": "stdout",
     "output_type": "stream",
     "text": [
      "\n",
      " List of ancestral genomes:\n",
      "\t- Primates\n",
      "\t- Vertebrata\n",
      "\t- Rodents\n",
      "\t- Mammalia\n",
      "\t- Euarchontoglires\n"
     ]
    }
   ],
   "source": [
    "# You can also get all ancestral genomes created as a list\n",
    "list_genome = ham_analysis.get_list_ancestral_genomes()\n",
    "print(\"\\n List of ancestral genomes:\")\n",
    "for g in list_genome:\n",
    "    print(\"\\t- {}\".format(g.name))"
   ]
  },
  {
   "cell_type": "code",
   "execution_count": 18,
   "metadata": {},
   "outputs": [
    {
     "name": "stdout",
     "output_type": "stream",
     "text": [
      "\n",
      " Here for the filter version of HAM, the list of ancestral genomes:\n",
      "\t- Mammalia\n",
      "\t- Primates\n",
      "\t- Euarchontoglires\n",
      "\t- Rodents\n",
      "'Vertebrate' is not present in the filter list because not required during the parsing\n"
     ]
    }
   ],
   "source": [
    "# You can also get all ancestral genomes created as a list\n",
    "list_genome = ham_analysis_filter.get_list_ancestral_genomes()\n",
    "print(\"\\n Here for the filter version of HAM, the list of ancestral genomes:\")\n",
    "for g in list_genome:\n",
    "    print(\"\\t- {}\".format(g.name))\n",
    "    \n",
    "print(\"'Vertebrate' is not present in the filter list because not required during the parsing\")"
   ]
  },
  {
   "cell_type": "markdown",
   "metadata": {},
   "source": [
    "<a id='taxq'></a>\n",
    "### Taxon queries"
   ]
  },
  {
   "cell_type": "code",
   "execution_count": 19,
   "metadata": {},
   "outputs": [
    {
     "name": "stdout",
     "output_type": "stream",
     "text": [
      "Rodents\n",
      "HUMAN\n"
     ]
    }
   ],
   "source": [
    "# You can get an Taxonomy node by its name\n",
    "taxon = ham_analysis.get_taxon_by_name(\"Rodents\") \n",
    "print(taxon.name)\n",
    "\n",
    "taxon = ham_analysis.get_taxon_by_name(\"HUMAN\") \n",
    "print(taxon.name)"
   ]
  },
  {
   "cell_type": "markdown",
   "metadata": {},
   "source": [
    "<a id='object'></a>\n",
    "## HAM OBJECT: SHOW ME YOUR SECRETS?\n",
    "\n",
    "Let's have a look at each HAM object !\n",
    "*  [Gene/HOG](#gdef)\n",
    "*  [Genome](#genomedef)\n",
    "*  [Taxonomy](#taxonomydef)\n"
   ]
  },
  {
   "cell_type": "markdown",
   "metadata": {},
   "source": [
    "<a id='gdef'></a>\n",
    "### Gene/HOG"
   ]
  },
  {
   "cell_type": "markdown",
   "metadata": {},
   "source": [
    "#### AbstractGene (Both ExtantGene and HOG)"
   ]
  },
  {
   "cell_type": "code",
   "execution_count": 20,
   "metadata": {},
   "outputs": [
    {
     "name": "stdout",
     "output_type": "stream",
     "text": [
      "Demo| gene/hog: \n",
      "('\\t - gene 2: ', Gene(2))\n",
      "('\\t - hog 1: ', <HOG(1)>)\n"
     ]
    }
   ],
   "source": [
    "# we select one extant gene and one hog for our demo\n",
    "print(\"Demo| gene/hog: \")\n",
    "gene2 = ham_analysis.get_gene_by_id(2)\n",
    "print(\"\\t - gene 2: \", gene2)\n",
    "hog1 = ham_analysis.get_hog_by_id(1)\n",
    "print(\"\\t - hog 1: \", hog1)"
   ]
  },
  {
   "cell_type": "markdown",
   "metadata": {},
   "source": [
    "###### The cool shared features between both of them are:"
   ]
  },
  {
   "cell_type": "code",
   "execution_count": 21,
   "metadata": {},
   "outputs": [
    {
     "name": "stdout",
     "output_type": "stream",
     "text": [
      "Demo| gene/hog genome: \n",
      "('\\t - gene 2: ', <pyham.genome.ExtantGenome object at 0x11203f110>)\n",
      "('\\t - hog 1: ', <pyham.genome.AncestralGenome object at 0x11203f910>)\n",
      "\n",
      "\n"
     ]
    }
   ],
   "source": [
    "# that we can fetch the genome where they belong to\n",
    "print(\"Demo| gene/hog genome: \")\n",
    "print(\"\\t - gene 2: \", gene2.genome)\n",
    "print(\"\\t - hog 1: \", hog1.genome)\n",
    "print(\"\\n\")"
   ]
  },
  {
   "cell_type": "code",
   "execution_count": 22,
   "metadata": {},
   "outputs": [
    {
     "name": "stdout",
     "output_type": "stream",
     "text": [
      "Demo| gene/hog related top level hog: \n",
      "('\\t - gene 2: ', <HOG(2)>)\n",
      "\t - hog 1: <HOG(1)> (it  returns itself it already top level hog) \n",
      "\n",
      "\n"
     ]
    }
   ],
   "source": [
    "# that we can get the related top level hog\n",
    "print(\"Demo| gene/hog related top level hog: \")\n",
    "print(\"\\t - gene 2: \", gene2.get_top_level_hog())\n",
    "print(\"\\t - hog 1: {} (it  returns itself it already top level hog) \".format(hog1.get_top_level_hog()))\n",
    "print(\"\\n\")"
   ]
  },
  {
   "cell_type": "code",
   "execution_count": 23,
   "metadata": {},
   "outputs": [
    {
     "name": "stdout",
     "output_type": "stream",
     "text": [
      "Demo| gene/hog related top level hog: \n",
      "('\\t - gene 2: ', [<HOG()>])\n",
      "('\\t - hog 1: ', [<HOG(1.M.E.R)>])\n",
      "/!\\ THIS CAN RETURN MORE THAN ONE HOG /!\\ \n",
      "('\\t - hog 3: ', [<HOG()>, <HOG()>])\n",
      "\n",
      "\n"
     ]
    }
   ],
   "source": [
    "# that we can get the related hogs at a specific level \n",
    "rodents = ham_analysis.get_ancestral_genome_by_name(\"Rodents\")\n",
    "print(\"Demo| gene/hog related top level hog: \")\n",
    "print(\"\\t - gene 2: \", gene2.get_at_level(rodents))\n",
    "print(\"\\t - hog 1: \", hog1.get_at_level(rodents))\n",
    "print(\"/!\\ THIS CAN RETURN MORE THAN ONE HOG /!\\ \")\n",
    "hog3 = ham_analysis.get_hog_by_id(3)\n",
    "print(\"\\t - hog 3: \", hog3.get_at_level(rodents))\n",
    "print(\"\\n\")"
   ]
  },
  {
   "cell_type": "code",
   "execution_count": 24,
   "metadata": {},
   "outputs": [
    {
     "name": "stdout",
     "output_type": "stream",
     "text": [
      "Demo| gene/hog singletons ? : \n",
      "\t - gene 2: False\n",
      "\t - gene 5: True\n",
      "\t - HOG 1: False\n",
      "\n",
      "\n"
     ]
    }
   ],
   "source": [
    "# Singleton -> a gene present in a species of the orthoxml but that doesn't belong to any hog.\n",
    "\n",
    "# that we can know if the abstractGene is a singleton or not\n",
    "human_5 = ham_analysis.get_gene_by_id(\"5\")\n",
    "print(\"Demo| gene/hog singletons ? : \")\n",
    "print(\"\\t - gene 2: {}\".format(gene2.is_singleton()))\n",
    "print(\"\\t - gene 5: {}\".format(human_5.is_singleton()))\n",
    "print(\"\\t - HOG 1: {}\".format(hog1.is_singleton()))\n",
    "print(\"\\n\")"
   ]
  },
  {
   "cell_type": "code",
   "execution_count": 25,
   "metadata": {},
   "outputs": [
    {
     "name": "stdout",
     "output_type": "stream",
     "text": [
      "Demo| gene ancestor hog at Mammalia level: \n",
      "\t - gene 2: (<HOG(2)>, False)\n",
      "\t - hog 3 at rodents: (<HOG(3.M)>, True)\n"
     ]
    }
   ],
   "source": [
    "# that we can get the ancestral HOG of an abstractGene at a specific level. In addition a boolean specify if a duplication occured in between the two levels.\n",
    "mamm = ham_analysis.get_ancestral_genome_by_name(\"Mammalia\")\n",
    "hog3_rodents = hog3.get_at_level(rodents)[0]\n",
    "\n",
    "print(\"Demo| gene ancestor hog at Mammalia level: \")\n",
    "print(\"\\t - gene 2: {}\".format(gene2.search_ancestor_hog_in_ancestral_genome(mamm)))\n",
    "print(\"\\t - hog 3 at rodents: {}\".format(hog3_rodents.search_ancestor_hog_in_ancestral_genome(mamm)))"
   ]
  },
  {
   "cell_type": "markdown",
   "metadata": {},
   "source": [
    "#### ExtantGene"
   ]
  },
  {
   "cell_type": "code",
   "execution_count": 26,
   "metadata": {},
   "outputs": [
    {
     "name": "stdout",
     "output_type": "stream",
     "text": [
      "{u'protId': 'HUMAN2', u'id': '2', u'geneId': 'HUMANg2'}\n"
     ]
    }
   ],
   "source": [
    "# You can get a dictionary with all the cross references for a gene\n",
    "gene2 = ham_analysis.get_gene_by_id(2)\n",
    "print(gene2.get_dict_xref())"
   ]
  },
  {
   "cell_type": "markdown",
   "metadata": {},
   "source": [
    "#### HOG\n",
    "\n",
    "###### The cool feature in for HOG are that you can:"
   ]
  },
  {
   "cell_type": "code",
   "execution_count": 27,
   "metadata": {},
   "outputs": [],
   "source": [
    "# demo hog\n",
    "hog1 = ham_analysis.get_hog_by_id(1)\n",
    "hog3 = ham_analysis.get_hog_by_id(3)"
   ]
  },
  {
   "cell_type": "code",
   "execution_count": 28,
   "metadata": {},
   "outputs": [
    {
     "name": "stdout",
     "output_type": "stream",
     "text": [
      "[Gene(51), Gene(21), Gene(1), Gene(11), Gene(31), Gene(41)]\n"
     ]
    }
   ],
   "source": [
    "# get all descendant genes\n",
    "desc_genes = hog1.get_all_descendant_genes()\n",
    "print(desc_genes)"
   ]
  },
  {
   "cell_type": "code",
   "execution_count": 29,
   "metadata": {},
   "outputs": [
    {
     "name": "stdout",
     "output_type": "stream",
     "text": [
      "(<pyham.genome.ExtantGenome object at 0x11203f110>, [Gene(3)])\n",
      "(<pyham.genome.ExtantGenome object at 0x11203f750>, [Gene(33), Gene(34)])\n",
      "(<pyham.genome.ExtantGenome object at 0x11203f850>, [Gene(53)])\n",
      "(<pyham.genome.ExtantGenome object at 0x11203f3d0>, [Gene(13), Gene(14)])\n",
      "(<pyham.genome.ExtantGenome object at 0x11203f550>, [Gene(23)])\n"
     ]
    }
   ],
   "source": [
    "# get all descendant genes clustered by species\n",
    "desc_genes_clustered = hog3.get_all_descendant_genes_clustered_by_species()\n",
    "for species, genes in desc_genes_clustered.items():\n",
    "    print(species, genes)"
   ]
  },
  {
   "cell_type": "code",
   "execution_count": 30,
   "metadata": {},
   "outputs": [
    {
     "name": "stdout",
     "output_type": "stream",
     "text": [
      "Vertebrata\n",
      "Mammalia\n",
      "Euarchontoglires\n",
      "Primates\n",
      "Rodents\n"
     ]
    }
   ],
   "source": [
    "# get all descendant level (internal node ancestral genomes)\n",
    "desc_level = hog1.get_all_descendant_hog_levels()\n",
    "for genome in desc_level:\n",
    "    print(genome.name)"
   ]
  },
  {
   "cell_type": "code",
   "execution_count": 31,
   "metadata": {},
   "outputs": [
    {
     "name": "stdout",
     "output_type": "stream",
     "text": [
      "[<HOG(1)>, <HOG(1.M)>, <HOG(1.M.E)>, <HOG(1.M.E.P)>, <HOG(1.M.E.R)>]\n"
     ]
    }
   ],
   "source": [
    "# get all descendant hogs\n",
    "desc_hog = hog1.get_all_descendant_hogs()\n",
    "print(desc_hog)"
   ]
  },
  {
   "cell_type": "code",
   "execution_count": 32,
   "metadata": {},
   "outputs": [
    {
     "name": "stdout",
     "output_type": "stream",
     "text": [
      "Gene(51)\n",
      "Gene(21)\n",
      "Gene(1)\n",
      "Gene(11)\n",
      "Gene(31)\n",
      "Gene(41)\n",
      "The return object (list of leaves): [Gene(51), Gene(21), Gene(1), Gene(11), Gene(31), Gene(41)]\n"
     ]
    }
   ],
   "source": [
    "# visit the hog with prefix, postfix, leaf callback function\n",
    "# (reading the docs at pyham.abstract.HOG.visit() is required here) \n",
    "\n",
    "# -----------------------------------------------------------#\n",
    "# -- This is an example to apply a function to each leaves --#\n",
    "# -----------------------------------------------------------#\n",
    "def print_and_append_leaf(current, child, list):\n",
    "    list.append(child)\n",
    "    print(child)\n",
    "    return list\n",
    "\n",
    "passed_object = []\n",
    "return_object = hog1.visit(passed_object, function_extant_gene=print_and_append_leaf)\n",
    "\n",
    "print(\"The return object (list of leaves): {}\".format(return_object))"
   ]
  },
  {
   "cell_type": "code",
   "execution_count": 33,
   "metadata": {},
   "outputs": [
    {
     "name": "stdout",
     "output_type": "stream",
     "text": [
      "<HOG(1)>\n",
      "<HOG(1.M)>\n",
      "<HOG(1.M.E)>\n",
      "<HOG(1.M.E.P)>\n",
      "<HOG(1.M.E.R)>\n",
      "The return object (list of internale nodes): [<HOG(1)>, <HOG(1.M)>, <HOG(1.M.E)>, <HOG(1.M.E.P)>, <HOG(1.M.E.R)>]\n"
     ]
    }
   ],
   "source": [
    "# ------------------------------------------------------------------#\n",
    "# -- This is an example to apply a function to each node (prefix) --#\n",
    "# ------------------------------------------------------------------#\n",
    "def print_and_append_node(current, list):\n",
    "    list.append(current)\n",
    "    print(current)\n",
    "    return list\n",
    "\n",
    "passed_object = []\n",
    "return_object = hog1.visit(passed_object, function_prefix=print_and_append_node)\n",
    "\n",
    "print(\"The return object (list of internale nodes): {}\".format(return_object))"
   ]
  },
  {
   "cell_type": "code",
   "execution_count": 34,
   "metadata": {},
   "outputs": [
    {
     "name": "stdout",
     "output_type": "stream",
     "text": [
      "<HOG(1.M.E.P)>\n",
      "<HOG(1.M.E.R)>\n",
      "<HOG(1.M.E)>\n",
      "<HOG(1.M)>\n",
      "The return object (list of internale nodes child): [<HOG(1.M.E.P)>, <HOG(1.M.E.R)>, <HOG(1.M.E)>, <HOG(1.M)>]\n"
     ]
    }
   ],
   "source": [
    "# -------------------------------------------------------------------------------------------#\n",
    "# -- This is an example to apply a function to each node after the recursive call (prefix) --#\n",
    "# -------------------------------------------------------------------------------------------#\n",
    "def print_and_append_node(self, child, elem):\n",
    "    elem.append(child)\n",
    "    print(child)\n",
    "    return elem\n",
    "\n",
    "passed_object = []\n",
    "return_object = hog1.visit(passed_object, function_postfix=print_and_append_node)\n",
    "\n",
    "print(\"The return object (list of internale nodes child): {}\".format(return_object))"
   ]
  },
  {
   "cell_type": "markdown",
   "metadata": {},
   "source": [
    "<a id='genomedef'></a>\n",
    "### Genome\n"
   ]
  },
  {
   "cell_type": "code",
   "execution_count": 35,
   "metadata": {},
   "outputs": [
    {
     "name": "stdout",
     "output_type": "stream",
     "text": [
      "Get genome name:\n",
      "\t -HUMAN\n",
      "\t -Rodents\n",
      "\n",
      "\n"
     ]
    }
   ],
   "source": [
    "human_genome = ham_analysis.get_extant_genome_by_name(\"HUMAN\")\n",
    "rodents_genome = ham_analysis.get_ancestral_genome_by_name(\"Rodents\")\n",
    "\n",
    "# You can get the name\n",
    "print(\"Get genome name:\")\n",
    "print(\"\\t -{}\".format(human_genome.name))\n",
    "print(\"\\t -{}\".format(rodents_genome.name))\n",
    "print(\"\\n\")"
   ]
  },
  {
   "cell_type": "code",
   "execution_count": 36,
   "metadata": {},
   "outputs": [
    {
     "name": "stdout",
     "output_type": "stream",
     "text": [
      "Get genome taxon:\n",
      "\n",
      "--HUMAN\n",
      "\n",
      "   /-MOUSE\n",
      "--|\n",
      "   \\-RATNO\n",
      "\n",
      "\n"
     ]
    }
   ],
   "source": [
    "# You can get the related node in the taxonomy\n",
    "print(\"Get genome taxon:\")\n",
    "print(human_genome.taxon)\n",
    "print(rodents_genome.taxon)\n",
    "print(\"\\n\")"
   ]
  },
  {
   "cell_type": "code",
   "execution_count": 37,
   "metadata": {},
   "outputs": [
    {
     "name": "stdout",
     "output_type": "stream",
     "text": [
      "Get genome genes:\n",
      "[Gene(1), Gene(2), Gene(3), Gene(5)]\n",
      "[<HOG(1.M.E.R)>, <HOG()>, <HOG()>, <HOG()>]\n",
      "\n",
      "\n"
     ]
    }
   ],
   "source": [
    "# You can get the list of genes associated to this genomes\n",
    "print(\"Get genome genes:\")\n",
    "print(human_genome.genes)\n",
    "print(rodents_genome.genes)\n",
    "print(\"\\n\")"
   ]
  },
  {
   "cell_type": "code",
   "execution_count": 38,
   "metadata": {},
   "outputs": [
    {
     "name": "stdout",
     "output_type": "stream",
     "text": [
      "Get genome genes number:\n",
      "4\n",
      "3\n",
      "4\n",
      "\n",
      "\n"
     ]
    }
   ],
   "source": [
    "# You can get the number of genes associated to this genomes\n",
    "print(\"Get genome genes number:\")\n",
    "print(human_genome.get_number_genes(singleton=True))\n",
    "print(human_genome.get_number_genes(singleton=False)) # Here we are not counting the singletons as species genes !\n",
    "print(rodents_genome.get_number_genes())\n",
    "print(\"\\n\")"
   ]
  },
  {
   "cell_type": "code",
   "execution_count": 39,
   "metadata": {},
   "outputs": [
    {
     "name": "stdout",
     "output_type": "stream",
     "text": [
      "HOG: <HOG(1.M.E.R)> -> genes: [Gene(31), Gene(41)]\n",
      "HOG: <HOG()> -> genes: [Gene(33)]\n",
      "HOG: <HOG()> -> genes: [Gene(34)]\n",
      "HOG: <HOG()> -> genes: [Gene(32)]\n"
     ]
    }
   ],
   "source": [
    "for h, gs in rodents.get_ancestral_clustering().items():\n",
    "    print(\"HOG: {} -> genes: {}\".format(h,gs))"
   ]
  },
  {
   "cell_type": "markdown",
   "metadata": {},
   "source": [
    "<a id='taxonomydef'></a>\n",
    "\n",
    "### Taxonomy\n",
    "\n",
    "The pyham.taxonomy.Taxonomy object contains all informations about the species tree structure."
   ]
  },
  {
   "cell_type": "code",
   "execution_count": 40,
   "metadata": {},
   "outputs": [
    {
     "name": "stdout",
     "output_type": "stream",
     "text": [
      "set([Tree node 'XENTR' (0x112031c5), Tree node 'HUMAN' (0x11203f09), Tree node 'PANTR' (0x11203f0d), Tree node 'MOUSE' (0x11203f15), Tree node 'RATNO' (0x11203f19), Tree node 'CANFA' (0x11203f1d)])\n",
      "\n",
      "\n"
     ]
    }
   ],
   "source": [
    "# it contains all the leaves nodes:\n",
    "print(ham_analysis.taxonomy.leaves)\n",
    "print(\"\\n\")"
   ]
  },
  {
   "cell_type": "code",
   "execution_count": 41,
   "metadata": {},
   "outputs": [
    {
     "name": "stdout",
     "output_type": "stream",
     "text": [
      "set([Tree node 'Primates' (0x112031f1), Tree node 'Vertebrata' (0x105be875), Tree node 'Rodents' (0x112031bd), Tree node 'Mammalia' (0x105be861), Tree node 'Euarchontoglires' (0x112031e9)])\n",
      "\n",
      "\n"
     ]
    }
   ],
   "source": [
    "# and the internal node:\n",
    "print(ham_analysis.taxonomy.internal_nodes)\n",
    "print(\"\\n\")"
   ]
  },
  {
   "cell_type": "code",
   "execution_count": 42,
   "metadata": {},
   "outputs": [
    {
     "name": "stdout",
     "output_type": "stream",
     "text": [
      "GenomeName leaf? root?\n",
      "-----------------------\n",
      "('Vertebrata', False, True)\n",
      "('XENTR', True, False)\n",
      "('Mammalia', False, False)\n",
      "('Euarchontoglires', False, False)\n",
      "('CANFA', True, False)\n",
      "('Primates', False, False)\n",
      "('Rodents', False, False)\n",
      "('HUMAN', True, False)\n",
      "('PANTR', True, False)\n",
      "('MOUSE', True, False)\n",
      "('RATNO', True, False)\n"
     ]
    }
   ],
   "source": [
    "# The main interest of this object is the taxonomy.tree object.\n",
    "tree = ham_analysis.taxonomy.tree\n",
    "\n",
    "# Since it's an ete3.Etree tree is contains all the built-in functionalities\n",
    "print(\"GenomeName leaf? root?\")\n",
    "print(\"-----------------------\")\n",
    "for node in ham_analysis.taxonomy.tree.traverse(): # .traverse() is an ete3.etree method.\n",
    "    print(node.name, node.is_leaf(), node.is_root())"
   ]
  },
  {
   "cell_type": "markdown",
   "metadata": {},
   "source": [
    "<a id='compare'></a>\n",
    "## COMPARE SEVERAL GENOMES\n",
    "\n",
    "In HAM, you can compare genomes based on the evolutionary history of their genes. \n",
    "\n",
    "### Vertical comparison\n",
    "For example you can compare the human genome with its ancestor at the level of Vertebrates. This means that you will investigate on how the ancestral genes (HOGs) in the Vertebrates ancestral genome have evolved (did they stay single copy, have duplicated or been lost, or did they evolve some new genes?) to gave rise to their related descendants in the human genome.\n",
    "\n",
    "The comparison is not restricted to a extant genome and its ancestral genome, you could also compare 2 ancestral genomea that are on the same lineage (e.g the rodents with the mammals).\n",
    "\n",
    "As show in the following example:"
   ]
  },
  {
   "cell_type": "code",
   "execution_count": 43,
   "metadata": {},
   "outputs": [],
   "source": [
    "# Get the genome of interest\n",
    "human = ham_analysis.get_extant_genome_by_name(\"HUMAN\")\n",
    "vertebrates = ham_analysis.get_ancestral_genome_by_name(\"Vertebrata\")\n",
    "\n",
    "# Instanciate the gene mapping !\n",
    "vertical_human_vertebrates = ham_analysis.compare_genomes_vertically(human, vertebrates) # The order doesn't matter!\n",
    "\n"
   ]
  },
  {
   "cell_type": "markdown",
   "metadata": {},
   "source": [
    "Ask the mapper about the evolutionary history between the human and the vertebrates genes."
   ]
  },
  {
   "cell_type": "code",
   "execution_count": 44,
   "metadata": {},
   "outputs": [
    {
     "name": "stdout",
     "output_type": "stream",
     "text": [
      "HOG at vertebrates -> descendant gene in human\n",
      "{<HOG(1)>: Gene(1)}\n",
      "\n",
      "\n"
     ]
    }
   ],
   "source": [
    "# The identical genes (that stay single copies) \n",
    "print(\"HOG at vertebrates -> descendant gene in human\")\n",
    "print(vertical_human_vertebrates.get_retained())\n",
    "print(\"\\n\")"
   ]
  },
  {
   "cell_type": "code",
   "execution_count": 45,
   "metadata": {},
   "outputs": [
    {
     "name": "stdout",
     "output_type": "stream",
     "text": [
      "HOG at vertebrates -> list of descendants gene in human\n",
      "{<HOG(3)>: [Gene(3)]}\n",
      "\n",
      "\n"
     ]
    }
   ],
   "source": [
    "# The duplicated genes (that have duplicated) \n",
    "print(\"HOG at vertebrates -> list of descendants gene in human\")\n",
    "print(vertical_human_vertebrates.get_duplicated())\n",
    "print(\"\\n\")"
   ]
  },
  {
   "cell_type": "code",
   "execution_count": 46,
   "metadata": {},
   "outputs": [
    {
     "name": "stdout",
     "output_type": "stream",
     "text": [
      "List of human gene\n",
      "[Gene(5), Gene(2)]\n",
      "\n",
      "\n"
     ]
    }
   ],
   "source": [
    "# The gained genes (that emerged in between)\n",
    "print(\"List of human gene\")\n",
    "print(vertical_human_vertebrates.get_gained())\n",
    "print(\"\\n\")"
   ]
  },
  {
   "cell_type": "code",
   "execution_count": 47,
   "metadata": {},
   "outputs": [
    {
     "name": "stdout",
     "output_type": "stream",
     "text": [
      "HOG at vertebrates that are lost\n",
      "set([])\n",
      "\n",
      "\n"
     ]
    }
   ],
   "source": [
    "# The lost genes (that been lost in between) \n",
    "print(\"HOG at vertebrates that are lost\")\n",
    "print(vertical_human_vertebrates.get_lost())\n",
    "print(\"\\n\")"
   ]
  },
  {
   "cell_type": "markdown",
   "metadata": {},
   "source": [
    "### Lateral comparison\n",
    "An other example could be to compare the rodents ancestral genome vs the primates ancestral genome through their common ancestor at the level of Euarchontoglires. Similar to the last paragraph you are investigating on how the ancestral Euarchontoglires genes gave rise to their related descendant ancestrals genomes in both primates and rodents."
   ]
  },
  {
   "cell_type": "code",
   "execution_count": 48,
   "metadata": {},
   "outputs": [],
   "source": [
    "# Get the genome of interest\n",
    "human = ham_analysis.get_extant_genome_by_name(\"HUMAN\")\n",
    "mouse = ham_analysis.get_extant_genome_by_name(\"RATNO\")\n",
    "\n",
    "# Instanciate the gene mapping !\n",
    "lateral_human_mouse = ham_analysis.compare_genomes_lateral(human, mouse) # The order doesn't matter!\n"
   ]
  },
  {
   "cell_type": "markdown",
   "metadata": {},
   "source": [
    " Ask the mapper about the genes evolutionary history between the human and the rat with and the Euarchontoglires (their mrca)."
   ]
  },
  {
   "cell_type": "code",
   "execution_count": 49,
   "metadata": {},
   "outputs": [
    {
     "name": "stdout",
     "output_type": "stream",
     "text": [
      "IDENTICAL GENES\n",
      "\t- HOG at Euarchontoglires <HOG(2.E)> is the ancestor of: \n",
      "\t\t-  Gene(2) in HUMAN\n",
      "\t- HOG at Euarchontoglires <HOG(1.M.E)> is the ancestor of: \n",
      "\t\t-  Gene(41) in RATNO\n",
      "\t\t-  Gene(1) in HUMAN\n",
      "\t- HOG at Euarchontoglires <HOG(3.E.1)> is the ancestor of: \n",
      "\t\t-  Gene(3) in HUMAN\n",
      "\n",
      "\n"
     ]
    }
   ],
   "source": [
    "# The identical genes (that stay single copies) \n",
    "print(\"IDENTICAL GENES\")\n",
    "for hogs, dict_genome_gene in lateral_human_mouse.get_retained().items():\n",
    "    print(\"\\t- HOG at Euarchontoglires {} is the ancestor of: \".format(hogs))\n",
    "    for g, gene in dict_genome_gene.items():\n",
    "        print(\"\\t\\t-  {} in {}\".format(gene, g))\n",
    "print(\"\\n\")"
   ]
  },
  {
   "cell_type": "code",
   "execution_count": 50,
   "metadata": {},
   "outputs": [
    {
     "name": "stdout",
     "output_type": "stream",
     "text": [
      "DUPLICATED GENES\n",
      "\n",
      "\n"
     ]
    }
   ],
   "source": [
    "# The duplicated genes (that have duplicated) \n",
    "print(\"DUPLICATED GENES\")\n",
    "for hogs, dict_genome_genes in lateral_human_mouse.get_duplicated().items():\n",
    "    print(\"\\t- HOG at Euarchontoglires {} is the ancestor of: \".format(hogs))\n",
    "    for g, genes in dict_genome_gene.items():\n",
    "        print(\"\\t\\t-  {} in {}\".format(genes, g))\n",
    "print(\"\\n\")"
   ]
  },
  {
   "cell_type": "code",
   "execution_count": 51,
   "metadata": {},
   "outputs": [
    {
     "name": "stdout",
     "output_type": "stream",
     "text": [
      "GAINED GENES\n",
      "\t- Genome RATNO have gained:\n",
      "\t\t-  Gene(43)\n",
      "\t- Genome HUMAN have gained:\n",
      "\t\t-  Gene(5)\n",
      "\n",
      "\n"
     ]
    }
   ],
   "source": [
    "# The gained genes (that emerged in between)\n",
    "print(\"GAINED GENES\")\n",
    "for genome, gains in lateral_human_mouse.get_gained().items():\n",
    "    print(\"\\t- Genome {} have gained:\".format(genome))\n",
    "    for g in gains:\n",
    "        print(\"\\t\\t-  {}\".format(g))\n",
    "print(\"\\n\")"
   ]
  },
  {
   "cell_type": "code",
   "execution_count": 52,
   "metadata": {},
   "outputs": [
    {
     "name": "stdout",
     "output_type": "stream",
     "text": [
      "LOST GENES\n",
      "\t- HOG at Euarchontoglires <HOG(2.E)> have been lost in \n",
      "\t\t- RATNO\n",
      "\t- HOG at Euarchontoglires <HOG(3.E.2)> have been lost in \n",
      "\t\t- RATNO\n",
      "\t\t- HUMAN\n",
      "\t- HOG at Euarchontoglires <HOG(3.E.1)> have been lost in \n",
      "\t\t- RATNO\n",
      "\n",
      "\n"
     ]
    }
   ],
   "source": [
    "# The lost genes (that been lost in between) \n",
    "print(\"LOST GENES\")\n",
    "for hog, genomes in lateral_human_mouse.get_lost().items():\n",
    "    print(\"\\t- HOG at Euarchontoglires {} have been lost in \".format(hog))\n",
    "    for g in genomes:\n",
    "        print(\"\\t\\t- {}\".format(g))\n",
    "print(\"\\n\")"
   ]
  },
  {
   "cell_type": "markdown",
   "metadata": {},
   "source": [
    "<a id='hvis'></a>\n",
    "## iHam\n",
    "\n",
    "iHam is a tool to visualise how the HOG members genes are clustering based on their ancestral genes membership. \n",
    "\n",
    "In other words, given a taxonomic range of interest the HOG extant genes are grouped based on their ancestral genes at the descending taxonomic range.\n",
    "\n",
    "**Let's run the following portion of code to see and example with its description below:**  "
   ]
  },
  {
   "cell_type": "code",
   "execution_count": 53,
   "metadata": {},
   "outputs": [
    {
     "data": {
      "text/html": [
       "\n",
       "        <iframe\n",
       "            width=\"700\"\n",
       "            height=\"350\"\n",
       "            src=\"output/HOG3.html\"\n",
       "            frameborder=\"0\"\n",
       "            allowfullscreen\n",
       "        ></iframe>\n",
       "        "
      ],
      "text/plain": [
       "<IPython.lib.display.IFrame at 0x112066090>"
      ]
     },
     "execution_count": 53,
     "metadata": {},
     "output_type": "execute_result"
    }
   ],
   "source": [
    "hog_3 =  ham_analysis.get_hog_by_id(3);ham_analysis.create_iHam(hog=hog_3,outfile=\"output/HOG{}.html\".format(hog_3.hog_id));from IPython.display import IFrame;IFrame(\"output/HOG{}.html\".format(hog_3.hog_id), width=700, height=350)"
   ]
  },
  {
   "cell_type": "markdown",
   "metadata": {},
   "source": [
    "iHam is composed of two part:\n",
    "- **Species tree**: This part allows you to select the level of interest (click to freeze the iHam at this level)\n",
    "- **Genes panel**: Each line represents an extant genome meanwhile each square represents an extant gene.\n",
    "\n",
    "If you look at the level of Vertabrata (hover the node), you will see all the genes that are descendant from one single ancestral gene at this level.\n",
    "\n",
    "If you look now at the level of Euarchontoglires (again, hover the node), you can see that genes are split by a vertical line. This line is used to separate ancestral gene groups. Each columns created by those vertical separators are representing an ancestal gene at the level of interest and contains all the extant genes that are descending from it. \n",
    "\n",
    "Here we can observe one column at the level of Mammalia and 2 columns at the level of Euarchontoglires which mean that a duplication had occured in between those two levels."
   ]
  },
  {
   "cell_type": "markdown",
   "metadata": {},
   "source": [
    "### iHam : single HOG"
   ]
  },
  {
   "cell_type": "code",
   "execution_count": 54,
   "metadata": {},
   "outputs": [
    {
     "data": {
      "text/html": [
       "\n",
       "        <iframe\n",
       "            width=\"700\"\n",
       "            height=\"350\"\n",
       "            src=\"output/HOG2.html\"\n",
       "            frameborder=\"0\"\n",
       "            allowfullscreen\n",
       "        ></iframe>\n",
       "        "
      ],
      "text/plain": [
       "<IPython.lib.display.IFrame at 0x1140581d0>"
      ]
     },
     "execution_count": 54,
     "metadata": {},
     "output_type": "execute_result"
    }
   ],
   "source": [
    "# Select an HOG\n",
    "hog_2 =  ham_analysis.get_hog_by_id(2)\n",
    "\n",
    "# create the iHam for it and store it into an html file\n",
    "output_name = \"output/HOG{}.html\".format(hog_2.hog_id)\n",
    "ham_analysis.create_iHam(hog=hog_2,outfile=output_name)\n",
    "\n",
    "# Here a little demo of what you can see with hogs vis\n",
    "from IPython.display import IFrame\n",
    "IFrame(output_name, width=700, height=350)"
   ]
  },
  {
   "cell_type": "markdown",
   "metadata": {},
   "source": [
    "### iHam : single HOG at a specific taxonomic range (ancestral genome)"
   ]
  },
  {
   "cell_type": "code",
   "execution_count": 55,
   "metadata": {
    "scrolled": true
   },
   "outputs": [
    {
     "data": {
      "text/html": [
       "\n",
       "        <iframe\n",
       "            width=\"700\"\n",
       "            height=\"350\"\n",
       "            src=\"output/HOG3.M.html\"\n",
       "            frameborder=\"0\"\n",
       "            allowfullscreen\n",
       "        ></iframe>\n",
       "        "
      ],
      "text/plain": [
       "<IPython.lib.display.IFrame at 0x105cade50>"
      ]
     },
     "execution_count": 55,
     "metadata": {},
     "output_type": "execute_result"
    }
   ],
   "source": [
    "# select an HOG\n",
    "hog_3 =  ham_analysis.get_hog_by_id(3)\n",
    "\n",
    "# then an genome\n",
    "mammals = ham_analysis.get_ancestral_genome_by_name(\"Mammalia\")\n",
    "\n",
    "# and you get the related HOG for this genome\n",
    "hog3_Mammalia = hog_3.get_at_level(mammals)[0] # this function returns a list, I select the first and only one.\n",
    "\n",
    "# create the iHam for it and save it into an html file\n",
    "output_name = \"output/HOG{}.html\".format(hog3_Mammalia.hog_id)\n",
    "ham_analysis.create_iHam(hog=hog3_Mammalia,outfile=output_name)\n",
    "\n",
    "# Here a little demo of what you can see with hogs vis\n",
    "from IPython.display import IFrame\n",
    "IFrame(output_name, width=700, height=350)"
   ]
  },
  {
   "cell_type": "markdown",
   "metadata": {},
   "source": [
    "### iHam : all HOGs for a specific taxonomic range (ancestral genome)"
   ]
  },
  {
   "cell_type": "code",
   "execution_count": 56,
   "metadata": {},
   "outputs": [],
   "source": [
    "#  Select a genome\n",
    "mammals = ham_analysis.get_ancestral_genome_by_name(\"Mammalia\")\n",
    "\n",
    "# Iterate over all its HOGs\n",
    "for hog in mammals.genes:\n",
    "    # and create the iHam for each\n",
    "    ham_analysis.create_iHam(hog=hog,outfile=\"output/HOG-mammals{}.html\".format(hog.hog_id))"
   ]
  },
  {
   "cell_type": "markdown",
   "metadata": {},
   "source": [
    "<a id='tprofile'></a>\n",
    "## TREEPROFILE\n",
    "\n",
    "TreeProfile is a tool to visualise how the genes have evolved in terms of evolutionnary events along a phylogenetic tree (duplication, lost, gained).\n",
    "\n",
    "**Let's run the following portion of code to see and example with its description below:**  "
   ]
  },
  {
   "cell_type": "code",
   "execution_count": 57,
   "metadata": {
    "scrolled": false
   },
   "outputs": [
    {
     "data": {
      "text/html": [
       "\n",
       "        <iframe\n",
       "            width=\"680\"\n",
       "            height=\"480\"\n",
       "            src=\"output/tp.html\"\n",
       "            frameborder=\"0\"\n",
       "            allowfullscreen\n",
       "        ></iframe>\n",
       "        "
      ],
      "text/plain": [
       "<IPython.lib.display.IFrame at 0x11406da50>"
      ]
     },
     "execution_count": 57,
     "metadata": {},
     "output_type": "execute_result"
    }
   ],
   "source": [
    "treeprofile = ham_analysis.create_tree_profile(outfile=\"output/tp.html\")\n",
    "\n",
    "from IPython.display import IFrame\n",
    "IFrame(\"output/tp.html\", width=680, height=480)"
   ]
  },
  {
   "cell_type": "markdown",
   "metadata": {},
   "source": [
    "TreeProfile is composed of :\n",
    "- **Species tree**: This is the reference taxonomy used by HAM.\n",
    "- **Internal node stack histogram**: Represent the proportion of genes in the genome of the level of interest that have either stay as single copy **retained** or that have been **duplicated**, **lost** or **gained** on the branch leading to the current genome. The genome size is equal to the sum of number of genes in **retained** , **duplicated** , **gained** categories. You can also display the number of phylogenetic events \n",
    "- **Legend**: Provides a description of the stack histogram bar and the scale.\n",
    "\n",
    "**You can customize with view using the top right spanner button to rescale horyzontally and vertically the tree. Plus, you can click and slide histograms if they overlap !!**"
   ]
  },
  {
   "cell_type": "markdown",
   "metadata": {},
   "source": [
    "##  !!! jupyter notebook are not supporting remote pdf embbeding so the help button (bottom right) is not working. We provide you here an iFrame of the help pdf."
   ]
  },
  {
   "cell_type": "code",
   "execution_count": 58,
   "metadata": {},
   "outputs": [
    {
     "data": {
      "text/html": [
       "\n",
       "        <iframe\n",
       "            width=\"1000\"\n",
       "            height=\"500\"\n",
       "            src=\"https://cdn.rawgit.com/DessimozLab/pyham/fc01fb94/help.pdf\"\n",
       "            frameborder=\"0\"\n",
       "            allowfullscreen\n",
       "        ></iframe>\n",
       "        "
      ],
      "text/plain": [
       "<IPython.lib.display.IFrame at 0x11406d6d0>"
      ]
     },
     "execution_count": 58,
     "metadata": {},
     "output_type": "execute_result"
    }
   ],
   "source": [
    "from IPython.display import IFrame\n",
    "IFrame('https://cdn.rawgit.com/DessimozLab/pyham/fc01fb94/help.pdf', width=1000, height=500)"
   ]
  },
  {
   "cell_type": "markdown",
   "metadata": {},
   "source": [
    "### TreeProfile for a specific HOG\n",
    "If you give a single HOG to the 'hog' argument, pyHam will build a treeprofile only on using the information of that particular hog and will represent the evolutionary history of this HOG in terms of duplicated, lost and retained genes accross each taxonomic range.\n"
   ]
  },
  {
   "cell_type": "code",
   "execution_count": 59,
   "metadata": {},
   "outputs": [
    {
     "data": {
      "text/html": [
       "\n",
       "        <iframe\n",
       "            width=\"680\"\n",
       "            height=\"480\"\n",
       "            src=\"output/tph3.html\"\n",
       "            frameborder=\"0\"\n",
       "            allowfullscreen\n",
       "        ></iframe>\n",
       "        "
      ],
      "text/plain": [
       "<IPython.lib.display.IFrame at 0x105be8290>"
      ]
     },
     "execution_count": 59,
     "metadata": {},
     "output_type": "execute_result"
    }
   ],
   "source": [
    "# select an HOG\n",
    "hog_3 =  ham_analysis.get_hog_by_id(3)\n",
    "\n",
    "# create the treeprofile object\n",
    "treeprofile_hog_3 = ham_analysis.create_tree_profile(hog=hog3, outfile=\"output/tph3.html\")\n",
    "\n",
    "from IPython.display import IFrame\n",
    "IFrame(\"output/tph3.html\", width=680, height=480)"
   ]
  }
 ],
 "metadata": {
  "hide_input": false,
  "kernelspec": {
   "display_name": "Python 2",
   "language": "python",
   "name": "python2"
  },
  "language_info": {
   "codemirror_mode": {
    "name": "ipython",
    "version": 2
   },
   "file_extension": ".py",
   "mimetype": "text/x-python",
   "name": "python",
   "nbconvert_exporter": "python",
   "pygments_lexer": "ipython2",
   "version": "2.7.10"
  }
 },
 "nbformat": 4,
 "nbformat_minor": 2
}
